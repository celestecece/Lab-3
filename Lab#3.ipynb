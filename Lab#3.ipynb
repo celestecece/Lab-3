{
 "cells": [
  {
   "cell_type": "code",
   "execution_count": null,
   "id": "bd8cd796-f234-4bbb-a385-7453a872d443",
   "metadata": {},
   "outputs": [],
   "source": [
    "#Title:Lab 3:PROPERTIES OF ENZYME ACTION"
   ]
  },
  {
   "cell_type": "code",
   "execution_count": null,
   "id": "27ca8dbf-b480-4a42-9d48-06000f915d00",
   "metadata": {},
   "outputs": [],
   "source": [
    "#Purpose:Pancreatic lipase plays a critical role in the digestion of fats, but when isolated, it proves ineffective due to its water-soluble nature attempting to act on sizable lipid droplets that resist water. Bile salts address this challenge by functioning as emulsifying agents, breaking down fats into smaller droplets. This process enhances the surface area available for lipase to efficiently hydrolyze fats.\n",
    "\n",
    "The pancreas further facilitates lipid digestion by releasing sodium bicarbonate (NaHCO3). This compound establishes a pH of approximately 7.8 in the small intestine, creating an optimal environment for the activity of pancreatic enzymes. In these exercise, various facets of the interaction between pancreatic lipase, bile salts, and lipids will be explored.\n"
   ]
  },
  {
   "cell_type": "code",
   "execution_count": null,
   "id": "b5a8f647-c9b3-44db-bf57-7de99c88334d",
   "metadata": {},
   "outputs": [],
   "source": [
    "#Procedures:\n",
    "\n",
    "1.)Mix litmus powder with dairy cream to create a medium blue color. Distribute 3 ml of litmus cream into four test tubes. In two additional tubes, add 3 ml of 2% pancreatin. Preincubate litmus cream and pancreatin separately in a 37°C water bath for 5 minutes. Prepare four test tubes with different combinations of cream, pancreatin, and bile salts:\n",
    "\n",
    "Tube #1: Cream + Pancreatin\n",
    "Tube #2: Cream + Distilled Water\n",
    "Tube #3: Cream + Pancreatin + Bile Salts\n",
    "Tube #4: Cream + Distilled Water + Bile Salts\n",
    "\n",
    "\n",
    "2.)Shake each tube for 30 seconds to mix bile salts. Incubate all tubes in a 37°C water bath for 1 hour, checking every minute for the first 5 minutes and every 15 minutes thereafter. Record the time and tube number.\n",
    "\n",
    "3.)Remove tubes from the water bath. Test pH using pH paper and note odor and color changes. Blue litmus turning pink indicates an acidic environment.\n",
    "\n",
    "\n",
    "4.)Summarize results in a table with columns for \n",
    "\n",
    "\n",
    "            Tube Color, pH, Odor, and Time to Change Color.\n",
    "\n",
    "TUBE #1 \n",
    "TUBE #2 \n",
    "TUBE #3 \n",
    "TUBE #4\n",
    "\n",
    "\n",
    "5.)Explain the impact of fat digestion on solution pH and how bile influences the digestion rate.\n"
   ]
  },
  {
   "cell_type": "code",
   "execution_count": null,
   "id": "7bcc2202-0640-49c9-a1d2-ca02311ebd4b",
   "metadata": {},
   "outputs": [],
   "source": [
    "#Results:\n",
    "\n",
    "\n",
    "\n",
    "            Tube Color, pH, Odor, and Time to Change Color.\n",
    "                    \n",
    "TUBE #1     Blue,      5,  stinky feet odor,   slight-pink                    \n",
    "TUBE #2     Blue       6,  musky odor,         blueish-purple\n",
    "TUBE #3     Blue,      4,  rotten eggs odor,   lighter pink\n",
    "TUBE #4     Blue,      7 , dirty odor,        darker blueish-purple\n"
   ]
  },
  {
   "cell_type": "code",
   "execution_count": null,
   "id": "62ce3b28-ba89-4b9a-9915-1abef358a7bc",
   "metadata": {},
   "outputs": [],
   "source": [
    "#Discussion:The digestion of fat significantly influences the pH of the digestive solution. \n",
    "As fat enters the small intestine, pancreatic lipase, along with bile salts, plays a crucial \n",
    "role in breaking down large lipid droplets into smaller ones. Bile salts act as emulsifying \n",
    "agents, promoting the dispersion of fat in water and facilitating the enzymatic action of lipase.\n",
    "The pancreas secretes sodium bicarbonate, which neutralizes the acidic chyme arriving from the stomach \n",
    "and creates an optimal alkaline environment for the activity of pancreatic enzymes, including lipase.\n",
    "This pH adjustment is vital for the efficient hydrolysis of fats. Bile salts contribute not only by \n",
    "enhancing the surface area available for lipase but also by aiding in the emulsification process, \n",
    "thereby increasing the rate of fat digestion. The collaboration between pancreatic lipase, bile salts,\n",
    "and pH regulation ensures the effective breakdown of fats into absorbable components during the digestive process.\n"
   ]
  },
  {
   "cell_type": "code",
   "execution_count": null,
   "id": "19c2e163-e7f7-41f9-8f6a-4fe2957d280a",
   "metadata": {},
   "outputs": [],
   "source": [
    "#Conclusion:\n",
    "Be able to define an enzyme.\n",
    "*Understand the manner in which enzymes operate.\n",
    "*Understand the effect of pH and temperature on an enzyme.\n",
    "*Understand the difference between digestion and emulsification.\n",
    "*Understand the roles of indicators and buffers in this experiment.\n",
    "\n",
    "1.)An enzyme is a biological catalyst, typically a protein, that facilitates and accelerates biochemical reactions by lowering the activation energy required for the reaction to occur.\n",
    "\n",
    "*Enzymes operate by binding to specific substrates, forming enzyme-substrate complexes, and catalyzing the conversion of substrates into products. \n",
    "The active site of an enzyme provides a specific binding site for the substrate, and the enzyme undergoes conformational changes during the process.\n",
    "\n",
    "*The activity of enzymes is influenced by pH and temperature. Enzymes have optimal pH and temperature ranges for their function, \n",
    "and deviations from these ranges can lead to denaturation, affecting the enzyme's activity.\n",
    "\n",
    "* Digestion involves the breakdown of complex molecules into simpler forms, often facilitated by enzymes, to make nutrients available for absorption. \n",
    "Emulsification is the process of breaking down large fat globules into smaller droplets, typically aided by substances like bile salts, increasing the \n",
    "surface area for enzymatic action.\n",
    "\n",
    "*Indicators are substances that change color based on the pH of a solution, providing a visual representation of pH changes during experiments. \n",
    "Buffers help maintain a stable pH by resisting changes when an acid or base is added, ensuring optimal conditions for enzyme activity in this context.\n",
    "\n",
    "\n",
    "\n",
    "\n",
    "\n",
    "\n",
    "\n",
    "\n"
   ]
  }
 ],
 "metadata": {
  "kernelspec": {
   "display_name": "anaconda-2022.05-py39",
   "language": "python",
   "name": "conda-env-anaconda-2022.05-py39-py"
  },
  "language_info": {
   "codemirror_mode": {
    "name": "ipython",
    "version": 3
   },
   "file_extension": ".py",
   "mimetype": "text/x-python",
   "name": "python",
   "nbconvert_exporter": "python",
   "pygments_lexer": "ipython3",
   "version": "3.9.12"
  }
 },
 "nbformat": 4,
 "nbformat_minor": 5
}
